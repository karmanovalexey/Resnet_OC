{
 "cells": [
  {
   "cell_type": "code",
   "execution_count": 40,
   "id": "caring-president",
   "metadata": {},
   "outputs": [],
   "source": [
    "import os\n",
    "\n",
    "import matplotlib.pyplot as plt\n",
    "import numpy as np\n",
    "import pandas as pd\n",
    "\n",
    "from PIL import Image"
   ]
  },
  {
   "cell_type": "code",
   "execution_count": 139,
   "id": "specialized-oregon",
   "metadata": {},
   "outputs": [],
   "source": [
    "MAPILLARY_PALETTE = [128, 255, 255]"
   ]
  },
  {
   "cell_type": "code",
   "execution_count": 129,
   "id": "deadly-vegetation",
   "metadata": {},
   "outputs": [],
   "source": [
    "root = '/workspace/Mapillary/train/1920_1080/labels'\n",
    "savedir = '/workspace/Mapillary/MKU/train_labels'\n",
    "\n",
    "if not os.path.exists(savedir):\n",
    "    os.makedirs(savedir)"
   ]
  },
  {
   "cell_type": "code",
   "execution_count": 72,
   "id": "plastic-prince",
   "metadata": {},
   "outputs": [],
   "source": [
    "filenames = [os.path.join(dp, f) for dp, dn, fn in os.walk(os.path.expanduser(root)) for f in fn]\n",
    "filenames.sort()"
   ]
  },
  {
   "cell_type": "code",
   "execution_count": 73,
   "id": "chubby-million",
   "metadata": {},
   "outputs": [],
   "source": [
    "instruction = pd.read_csv('/workspace/Resnet_OC/Mapillary-Kitti-MIX.csv')"
   ]
  },
  {
   "cell_type": "code",
   "execution_count": 79,
   "id": "faced-ballot",
   "metadata": {},
   "outputs": [],
   "source": [
    "map_class = instruction['Mapillary_classnum'].dropna().tolist()\n",
    "mku_class = instruction['Super_num'].dropna().tolist()\n",
    "\n",
    "correspond = [(int(i[0]),int(i[1])) for i in list(zip(map_class, mku_class))]"
   ]
  },
  {
   "cell_type": "code",
   "execution_count": 140,
   "id": "narrow-connecticut",
   "metadata": {},
   "outputs": [],
   "source": [
    "for image_path in filenames[:10]:\n",
    "    image_name = savedir + '/' + image_path.split('/')[-1]\n",
    "    image = np.array(Image.open(image_path))\n",
    "    new_image = np.zeros(image.shape)\n",
    "    \n",
    "    for cls in correspond:\n",
    "        new_image[image==cls[0]] = cls[1]\n",
    "\n",
    "    new_image = Image.fromarray(new_image.astype(np.uint8))\n",
    "    new_image.putpalette(MAPILLARY_PALETTE)\n",
    "    new_image.save(image_name, \"PNG\")\n",
    "    \n",
    "#     os.chmod(image_name, 777)"
   ]
  },
  {
   "cell_type": "code",
   "execution_count": 128,
   "id": "annual-outline",
   "metadata": {},
   "outputs": [],
   "source": [
    "!rm -rf /workspace/Mapillary/MKU"
   ]
  },
  {
   "cell_type": "code",
   "execution_count": null,
   "id": "sexual-serbia",
   "metadata": {},
   "outputs": [],
   "source": []
  }
 ],
 "metadata": {
  "kernelspec": {
   "display_name": "Python 3",
   "language": "python",
   "name": "python3"
  },
  "language_info": {
   "codemirror_mode": {
    "name": "ipython",
    "version": 3
   },
   "file_extension": ".py",
   "mimetype": "text/x-python",
   "name": "python",
   "nbconvert_exporter": "python",
   "pygments_lexer": "ipython3",
   "version": "3.8.5"
  }
 },
 "nbformat": 4,
 "nbformat_minor": 5
}

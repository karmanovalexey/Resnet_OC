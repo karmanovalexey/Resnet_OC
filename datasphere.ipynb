{
 "metadata": {
  "language_info": {
   "codemirror_mode": {
    "name": "ipython",
    "version": 3
   },
   "file_extension": ".py",
   "mimetype": "text/x-python",
   "name": "python",
   "nbconvert_exporter": "python",
   "pygments_lexer": "ipython3",
   "version": "3.8.5"
  },
  "orig_nbformat": 2,
  "kernelspec": {
   "name": "python385jvsc74a57bd02b21c5890ddc9f3667837a88cbba89040600cdbfeccf8fca1d283f5ab543305a",
   "display_name": "Python 3.8.5 64-bit ('base': conda)"
  },
  "metadata": {
   "interpreter": {
    "hash": "2b21c5890ddc9f3667837a88cbba89040600cdbfeccf8fca1d283f5ab543305a"
   }
  }
 },
 "nbformat": 4,
 "nbformat_minor": 2,
 "cells": [
  {
   "cell_type": "code",
   "execution_count": 1,
   "metadata": {},
   "outputs": [
    {
     "output_type": "stream",
     "name": "stdout",
     "text": [
      "\u001b[34m\u001b[1mwandb\u001b[0m: Currently logged in as: \u001b[33mkarmanovalexey\u001b[0m (use `wandb login --relogin` to force relogin)\n",
      "\u001b[34m\u001b[1mwandb\u001b[0m: wandb version 0.10.28 is available!  To upgrade, please run:\n",
      "\u001b[34m\u001b[1mwandb\u001b[0m:  $ pip install wandb --upgrade\n",
      "\u001b[34m\u001b[1mwandb\u001b[0m: Tracking run with wandb version 0.10.22\n",
      "\u001b[34m\u001b[1mwandb\u001b[0m: Syncing run \u001b[33mcolorful-water-3\u001b[0m\n",
      "\u001b[34m\u001b[1mwandb\u001b[0m: ⭐️ View project at \u001b[34m\u001b[4mhttps://wandb.ai/karmanovalexey/Resnet-MOC-Training\u001b[0m\n",
      "\u001b[34m\u001b[1mwandb\u001b[0m: 🚀 View run at \u001b[34m\u001b[4mhttps://wandb.ai/karmanovalexey/Resnet-MOC-Training/runs/2dsvsl8v\u001b[0m\n",
      "\u001b[34m\u001b[1mwandb\u001b[0m: Run data is saved locally in /home/alexey/development/Resnet_OC/wandb/run-20210429_181412-2dsvsl8v\n",
      "\u001b[34m\u001b[1mwandb\u001b[0m: Run `wandb offline` to turn off syncing.\n",
      "\n",
      "Run properties: {'model': 'resnet_moc', 'height': 600, 'epochs': 12, 'bs': 2, 'pretrained': True, 'savedir': 'resnet_moc_0'}\n",
      "========== TRAINING ===========\n",
      "/home/alexey/Datasets/Mapillary/train/1920_1080/images\n",
      "Loaded 23 batches\n",
      "<All keys matched successfully>\n",
      "  0%|          | 0/23 [00:00<?, ?it/s]1 -----\n",
      "  0%|          | 0/23 [00:00<?, ?it/s]\n",
      "\n",
      "\u001b[34m\u001b[1mwandb\u001b[0m: Waiting for W&B process to finish, PID 15905\n",
      "\u001b[34m\u001b[1mwandb\u001b[0m: Program failed with code 1.  Press ctrl-c to abort syncing.\n",
      "\u001b[34m\u001b[1mwandb\u001b[0m:                                                                                \n",
      "\u001b[34m\u001b[1mwandb\u001b[0m: Find user logs for this run at: /home/alexey/development/Resnet_OC/wandb/run-20210429_181412-2dsvsl8v/logs/debug.log\n",
      "\u001b[34m\u001b[1mwandb\u001b[0m: Find internal logs for this run at: /home/alexey/development/Resnet_OC/wandb/run-20210429_181412-2dsvsl8v/logs/debug-internal.log\n",
      "\u001b[34m\u001b[1mwandb\u001b[0m: Synced 5 W&B file(s), 0 media file(s), 0 artifact file(s) and 0 other file(s)\n",
      "\u001b[34m\u001b[1mwandb\u001b[0m: \n",
      "\u001b[34m\u001b[1mwandb\u001b[0m: Synced \u001b[33mcolorful-water-3\u001b[0m: \u001b[34mhttps://wandb.ai/karmanovalexey/Resnet-MOC-Training/runs/2dsvsl8v\u001b[0m\n",
      "Traceback (most recent call last):\n",
      "  File \"train.py\", line 169, in <module>\n",
      "    main(parser.parse_args())\n",
      "  File \"train.py\", line 148, in main\n",
      "    train(args)\n",
      "  File \"train.py\", line 103, in train\n",
      "    outputs = model(inputs)\n",
      "  File \"/home/alexey/anaconda3/lib/python3.8/site-packages/torch/nn/modules/module.py\", line 889, in _call_impl\n",
      "    result = self.forward(*input, **kwargs)\n",
      "  File \"/home/alexey/anaconda3/lib/python3.8/site-packages/torch/nn/parallel/data_parallel.py\", line 165, in forward\n",
      "    return self.module(*inputs[0], **kwargs[0])\n",
      "  File \"/home/alexey/anaconda3/lib/python3.8/site-packages/torch/nn/modules/module.py\", line 889, in _call_impl\n",
      "    result = self.forward(*input, **kwargs)\n",
      "  File \"/home/alexey/development/Resnet_OC/resnet_moc/resnet_moc.py\", line 50, in forward\n",
      "    x = self.context(x)\n",
      "  File \"/home/alexey/anaconda3/lib/python3.8/site-packages/torch/nn/modules/module.py\", line 889, in _call_impl\n",
      "    result = self.forward(*input, **kwargs)\n",
      "  File \"/home/alexey/anaconda3/lib/python3.8/site-packages/torch/nn/modules/container.py\", line 119, in forward\n",
      "    input = module(input)\n",
      "  File \"/home/alexey/anaconda3/lib/python3.8/site-packages/torch/nn/modules/module.py\", line 889, in _call_impl\n",
      "    result = self.forward(*input, **kwargs)\n",
      "  File \"/home/alexey/anaconda3/lib/python3.8/site-packages/torch/nn/modules/conv.py\", line 399, in forward\n",
      "    return self._conv_forward(input, self.weight, self.bias)\n",
      "  File \"/home/alexey/anaconda3/lib/python3.8/site-packages/torch/nn/modules/conv.py\", line 395, in _conv_forward\n",
      "    return F.conv2d(input, weight, bias, self.stride,\n",
      "RuntimeError: CUDA out of memory. Tried to allocate 2.75 GiB (GPU 0; 5.81 GiB total capacity; 2.30 GiB already allocated; 2.24 GiB free; 2.37 GiB reserved in total by PyTorch)\n"
     ]
    }
   ],
   "source": [
    "!sh train.sh"
   ]
  },
  {
   "cell_type": "code",
   "execution_count": null,
   "metadata": {},
   "outputs": [],
   "source": []
  }
 ]
}